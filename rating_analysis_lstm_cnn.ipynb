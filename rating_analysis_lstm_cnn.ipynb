{
  "nbformat": 4,
  "nbformat_minor": 0,
  "metadata": {
    "colab": {
      "name": "rating_analysis_lstm_cnn.ipynb",
      "provenance": [],
      "collapsed_sections": [],
      "authorship_tag": "ABX9TyMHn4eeYRC0LQc+Lt2XnBp2",
      "include_colab_link": true
    },
    "kernelspec": {
      "name": "python3",
      "display_name": "Python 3"
    },
    "language_info": {
      "name": "python"
    }
  },
  "cells": [
    {
      "cell_type": "markdown",
      "metadata": {
        "id": "view-in-github",
        "colab_type": "text"
      },
      "source": [
        "<a href=\"https://colab.research.google.com/github/rashida048/Some-NLP-Projects/blob/master/rating_analysis_lstm_cnn.ipynb\" target=\"_parent\"><img src=\"https://colab.research.google.com/assets/colab-badge.svg\" alt=\"Open In Colab\"/></a>"
      ]
    },
    {
      "cell_type": "code",
      "metadata": {
        "id": "iS8Fd9CcWc0V"
      },
      "source": [
        "import tensorflow as tf\n",
        "import tensorflow.keras as keras\n",
        "import pandas as pd\n",
        "import numpy as np"
      ],
      "execution_count": 89,
      "outputs": []
    },
    {
      "cell_type": "code",
      "metadata": {
        "colab": {
          "base_uri": "https://localhost:8080/",
          "height": 204
        },
        "id": "Qkj5QvlwWul1",
        "outputId": "6aa993ec-6132-48d0-9ef9-5e0fd8e6557a"
      },
      "source": [
        "df = pd.read_csv(\"amazon_baby.csv\", encoding='utf8')\n",
        "df.head()"
      ],
      "execution_count": 90,
      "outputs": [
        {
          "output_type": "execute_result",
          "data": {
            "text/html": [
              "<div>\n",
              "<style scoped>\n",
              "    .dataframe tbody tr th:only-of-type {\n",
              "        vertical-align: middle;\n",
              "    }\n",
              "\n",
              "    .dataframe tbody tr th {\n",
              "        vertical-align: top;\n",
              "    }\n",
              "\n",
              "    .dataframe thead th {\n",
              "        text-align: right;\n",
              "    }\n",
              "</style>\n",
              "<table border=\"1\" class=\"dataframe\">\n",
              "  <thead>\n",
              "    <tr style=\"text-align: right;\">\n",
              "      <th></th>\n",
              "      <th>name</th>\n",
              "      <th>review</th>\n",
              "      <th>rating</th>\n",
              "    </tr>\n",
              "  </thead>\n",
              "  <tbody>\n",
              "    <tr>\n",
              "      <th>0</th>\n",
              "      <td>Planetwise Flannel Wipes</td>\n",
              "      <td>These flannel wipes are OK, but in my opinion ...</td>\n",
              "      <td>3</td>\n",
              "    </tr>\n",
              "    <tr>\n",
              "      <th>1</th>\n",
              "      <td>Planetwise Wipe Pouch</td>\n",
              "      <td>it came early and was not disappointed. i love...</td>\n",
              "      <td>5</td>\n",
              "    </tr>\n",
              "    <tr>\n",
              "      <th>2</th>\n",
              "      <td>Annas Dream Full Quilt with 2 Shams</td>\n",
              "      <td>Very soft and comfortable and warmer than it l...</td>\n",
              "      <td>5</td>\n",
              "    </tr>\n",
              "    <tr>\n",
              "      <th>3</th>\n",
              "      <td>Stop Pacifier Sucking without tears with Thumb...</td>\n",
              "      <td>This is a product well worth the purchase.  I ...</td>\n",
              "      <td>5</td>\n",
              "    </tr>\n",
              "    <tr>\n",
              "      <th>4</th>\n",
              "      <td>Stop Pacifier Sucking without tears with Thumb...</td>\n",
              "      <td>All of my kids have cried non-stop when I trie...</td>\n",
              "      <td>5</td>\n",
              "    </tr>\n",
              "  </tbody>\n",
              "</table>\n",
              "</div>"
            ],
            "text/plain": [
              "                                                name  ... rating\n",
              "0                           Planetwise Flannel Wipes  ...      3\n",
              "1                              Planetwise Wipe Pouch  ...      5\n",
              "2                Annas Dream Full Quilt with 2 Shams  ...      5\n",
              "3  Stop Pacifier Sucking without tears with Thumb...  ...      5\n",
              "4  Stop Pacifier Sucking without tears with Thumb...  ...      5\n",
              "\n",
              "[5 rows x 3 columns]"
            ]
          },
          "metadata": {
            "tags": []
          },
          "execution_count": 90
        }
      ]
    },
    {
      "cell_type": "code",
      "metadata": {
        "id": "3mJEffX3W8Gc"
      },
      "source": [
        "from tensorflow.keras.preprocessing.text import Tokenizer\n",
        "from tensorflow.keras.preprocessing.sequence import pad_sequences"
      ],
      "execution_count": 91,
      "outputs": []
    },
    {
      "cell_type": "code",
      "metadata": {
        "id": "jl-bdx1RcHRF"
      },
      "source": [
        "tokenizer = Tokenizer(oov_token=\"<OOV>\")"
      ],
      "execution_count": 92,
      "outputs": []
    },
    {
      "cell_type": "code",
      "metadata": {
        "id": "PzNdmeHDcTg_"
      },
      "source": [
        "X = []\n",
        "for row in df['review']:\n",
        "  X.append(str(row))"
      ],
      "execution_count": 93,
      "outputs": []
    },
    {
      "cell_type": "code",
      "metadata": {
        "id": "N5Ec8779fQX-"
      },
      "source": [
        "X = pd.Series(X)"
      ],
      "execution_count": 94,
      "outputs": []
    },
    {
      "cell_type": "code",
      "metadata": {
        "id": "fd38L6H-cacp"
      },
      "source": [
        "#X = df['review']\n",
        "y = df['rating']"
      ],
      "execution_count": 95,
      "outputs": []
    },
    {
      "cell_type": "code",
      "metadata": {
        "id": "jo522hVbdBoX"
      },
      "source": [
        "from sklearn.model_selection import train_test_split\n",
        "x_train, x_test, y_train, y_test = train_test_split(\n",
        "     X, y, test_size=0.25, random_state=42)"
      ],
      "execution_count": 97,
      "outputs": []
    },
    {
      "cell_type": "code",
      "metadata": {
        "id": "NN3YaH9VdKZd"
      },
      "source": [
        "vocab_size = 50000\n",
        "embedding_dim = 32\n",
        "max_length = 120\n",
        "trunc_type = 'post'\n",
        "oov_tok = '<OOV>'\n",
        "padding_type = 'post'"
      ],
      "execution_count": 98,
      "outputs": []
    },
    {
      "cell_type": "code",
      "metadata": {
        "id": "WFQlYlAYdaqr"
      },
      "source": [
        "tokenizer = Tokenizer(num_words = vocab_size, oov_token = oov_tok)\n",
        "tokenizer.fit_on_texts(x_train)\n",
        "word_index = tokenizer.word_index\n",
        "sequences = tokenizer.texts_to_sequences(x_train)\n",
        "padded = pad_sequences(sequences, maxlen = max_length, truncating = trunc_type)"
      ],
      "execution_count": 99,
      "outputs": []
    },
    {
      "cell_type": "code",
      "metadata": {
        "colab": {
          "base_uri": "https://localhost:8080/"
        },
        "id": "yNTSWVo5pbVt",
        "outputId": "e4be1de1-cb89-4f51-e367-0a9f2cf34765"
      },
      "source": [
        "padded.shape"
      ],
      "execution_count": 100,
      "outputs": [
        {
          "output_type": "execute_result",
          "data": {
            "text/plain": [
              "(137648, 120)"
            ]
          },
          "metadata": {
            "tags": []
          },
          "execution_count": 100
        }
      ]
    },
    {
      "cell_type": "code",
      "metadata": {
        "id": "I0-bJdJSeMRo"
      },
      "source": [
        "test_review = tokenizer.texts_to_sequences(x_test)\n",
        "tes_pad = pad_sequences(test_review, maxlen = max_length)"
      ],
      "execution_count": 101,
      "outputs": []
    },
    {
      "cell_type": "code",
      "metadata": {
        "colab": {
          "base_uri": "https://localhost:8080/"
        },
        "id": "6GMoo7wtnWhr",
        "outputId": "46e01819-842a-4860-9b3e-a7b6506b8dd6"
      },
      "source": [
        "y_train.shape"
      ],
      "execution_count": 102,
      "outputs": [
        {
          "output_type": "execute_result",
          "data": {
            "text/plain": [
              "(137648,)"
            ]
          },
          "metadata": {
            "tags": []
          },
          "execution_count": 102
        }
      ]
    },
    {
      "cell_type": "code",
      "metadata": {
        "colab": {
          "base_uri": "https://localhost:8080/"
        },
        "id": "G5K1k4Txng6E",
        "outputId": "7a8d9d9b-68bd-42e4-e902-4f179f555ee4"
      },
      "source": [
        "y_test.shape"
      ],
      "execution_count": 103,
      "outputs": [
        {
          "output_type": "execute_result",
          "data": {
            "text/plain": [
              "(45883,)"
            ]
          },
          "metadata": {
            "tags": []
          },
          "execution_count": 103
        }
      ]
    },
    {
      "cell_type": "code",
      "metadata": {
        "id": "OcT0srNunhAL"
      },
      "source": [
        "y_train = np.array(y_train)\n",
        "y_test = np.array(y_test)"
      ],
      "execution_count": 104,
      "outputs": []
    },
    {
      "cell_type": "code",
      "metadata": {
        "colab": {
          "base_uri": "https://localhost:8080/"
        },
        "id": "EVWIlJutdpBT",
        "outputId": "69552cd9-44c9-43f7-b40c-6e1cb6be4b3a"
      },
      "source": [
        "model = tf.keras.Sequential([\n",
        "     tf.keras.layers.Embedding(vocab_size, embedding_dim),\n",
        "     tf.keras.layers.Bidirectional(tf.keras.layers.LSTM(embedding_dim)),\n",
        "     #tf.keras.layers.GlobalAveragePooling1D(),\n",
        "     #tf.keras.layers.Dense(100, activation = 'elu'),\n",
        "     #tf.keras.layers.Dense(50, activation = 'elu'),\n",
        "     #tf.keras.layers.Dense(50, activation = 'elu'),\n",
        "     tf.keras.layers.Dense(embedding_dim, activation = 'elu'),\n",
        "     tf.keras.layers.Dense(6, activation = 'sigmoid'),\n",
        "])\n",
        "\n",
        "model.compile(loss=tf.keras.losses.SparseCategoricalCrossentropy(from_logits=True), optimizer = 'adam', metrics = ['accuracy'])\n",
        "model.summary()"
      ],
      "execution_count": 85,
      "outputs": [
        {
          "output_type": "stream",
          "text": [
            "Model: \"sequential_7\"\n",
            "_________________________________________________________________\n",
            "Layer (type)                 Output Shape              Param #   \n",
            "=================================================================\n",
            "embedding_8 (Embedding)      (None, None, 32)          1600000   \n",
            "_________________________________________________________________\n",
            "bidirectional_4 (Bidirection (None, 64)                16640     \n",
            "_________________________________________________________________\n",
            "dense_26 (Dense)             (None, 32)                2080      \n",
            "_________________________________________________________________\n",
            "dense_27 (Dense)             (None, 6)                 198       \n",
            "=================================================================\n",
            "Total params: 1,618,918\n",
            "Trainable params: 1,618,918\n",
            "Non-trainable params: 0\n",
            "_________________________________________________________________\n"
          ],
          "name": "stdout"
        }
      ]
    },
    {
      "cell_type": "code",
      "metadata": {
        "colab": {
          "base_uri": "https://localhost:8080/",
          "height": 785
        },
        "id": "-sjf2AWSgrvb",
        "outputId": "586289fb-39f9-44be-9f20-844338238246"
      },
      "source": [
        "history = model.fit(padded, y_train, epochs = 20, validation_data=(tes_pad, y_test))"
      ],
      "execution_count": 86,
      "outputs": [
        {
          "output_type": "stream",
          "text": [
            "Epoch 1/20\n"
          ],
          "name": "stdout"
        },
        {
          "output_type": "stream",
          "text": [
            "/usr/local/lib/python3.7/dist-packages/tensorflow/python/keras/backend.py:4930: UserWarning: \"`sparse_categorical_crossentropy` received `from_logits=True`, but the `output` argument was produced by a sigmoid or softmax activation and thus does not represent logits. Was this intended?\"\n",
            "  '\"`sparse_categorical_crossentropy` received `from_logits=True`, but '\n"
          ],
          "name": "stderr"
        },
        {
          "output_type": "stream",
          "text": [
            "4302/4302 [==============================] - 472s 109ms/step - loss: 0.8870 - accuracy: 0.6514 - val_loss: 0.7930 - val_accuracy: 0.6884\n",
            "Epoch 2/20\n",
            "4302/4302 [==============================] - 475s 110ms/step - loss: 0.7441 - accuracy: 0.7033 - val_loss: 0.7594 - val_accuracy: 0.6966\n",
            "Epoch 3/20\n",
            "4302/4302 [==============================] - 471s 110ms/step - loss: 0.6737 - accuracy: 0.7328 - val_loss: 0.7749 - val_accuracy: 0.6878\n",
            "Epoch 4/20\n",
            "4302/4302 [==============================] - 475s 110ms/step - loss: 0.6130 - accuracy: 0.7572 - val_loss: 0.8044 - val_accuracy: 0.6872\n",
            "Epoch 5/20\n",
            "4302/4302 [==============================] - 464s 108ms/step - loss: 0.5555 - accuracy: 0.7824 - val_loss: 0.8301 - val_accuracy: 0.6866\n",
            "Epoch 6/20\n",
            "4302/4302 [==============================] - 459s 107ms/step - loss: 0.5027 - accuracy: 0.8059 - val_loss: 0.8932 - val_accuracy: 0.6753\n",
            "Epoch 7/20\n",
            "4302/4302 [==============================] - 463s 108ms/step - loss: 0.4506 - accuracy: 0.8296 - val_loss: 0.9775 - val_accuracy: 0.6735\n",
            "Epoch 8/20\n",
            "4302/4302 [==============================] - 461s 107ms/step - loss: 0.4030 - accuracy: 0.8480 - val_loss: 1.0595 - val_accuracy: 0.6757\n",
            "Epoch 9/20\n",
            "4302/4302 [==============================] - 429s 100ms/step - loss: 0.3558 - accuracy: 0.8682 - val_loss: 1.1229 - val_accuracy: 0.6701\n",
            "Epoch 10/20\n",
            "4302/4302 [==============================] - 437s 102ms/step - loss: 0.3135 - accuracy: 0.8843 - val_loss: 1.2876 - val_accuracy: 0.6507\n",
            "Epoch 11/20\n",
            "4302/4302 [==============================] - 441s 102ms/step - loss: 0.2776 - accuracy: 0.8998 - val_loss: 1.3307 - val_accuracy: 0.6486\n",
            "Epoch 12/20\n",
            " 972/4302 [=====>........................] - ETA: 5:29 - loss: 0.2222 - accuracy: 0.9244"
          ],
          "name": "stdout"
        },
        {
          "output_type": "error",
          "ename": "KeyboardInterrupt",
          "evalue": "ignored",
          "traceback": [
            "\u001b[0;31m---------------------------------------------------------------------------\u001b[0m",
            "\u001b[0;31mKeyboardInterrupt\u001b[0m                         Traceback (most recent call last)",
            "\u001b[0;32m<ipython-input-86-db3439a88392>\u001b[0m in \u001b[0;36m<module>\u001b[0;34m()\u001b[0m\n\u001b[0;32m----> 1\u001b[0;31m \u001b[0mhistory\u001b[0m \u001b[0;34m=\u001b[0m \u001b[0mmodel\u001b[0m\u001b[0;34m.\u001b[0m\u001b[0mfit\u001b[0m\u001b[0;34m(\u001b[0m\u001b[0mpadded\u001b[0m\u001b[0;34m,\u001b[0m \u001b[0my_train\u001b[0m\u001b[0;34m,\u001b[0m \u001b[0mepochs\u001b[0m \u001b[0;34m=\u001b[0m \u001b[0;36m20\u001b[0m\u001b[0;34m,\u001b[0m \u001b[0mvalidation_data\u001b[0m\u001b[0;34m=\u001b[0m\u001b[0;34m(\u001b[0m\u001b[0mtes_pad\u001b[0m\u001b[0;34m,\u001b[0m \u001b[0my_test\u001b[0m\u001b[0;34m)\u001b[0m\u001b[0;34m)\u001b[0m\u001b[0;34m\u001b[0m\u001b[0;34m\u001b[0m\u001b[0m\n\u001b[0m",
            "\u001b[0;32m/usr/local/lib/python3.7/dist-packages/tensorflow/python/keras/engine/training.py\u001b[0m in \u001b[0;36mfit\u001b[0;34m(self, x, y, batch_size, epochs, verbose, callbacks, validation_split, validation_data, shuffle, class_weight, sample_weight, initial_epoch, steps_per_epoch, validation_steps, validation_batch_size, validation_freq, max_queue_size, workers, use_multiprocessing)\u001b[0m\n\u001b[1;32m   1181\u001b[0m                 _r=1):\n\u001b[1;32m   1182\u001b[0m               \u001b[0mcallbacks\u001b[0m\u001b[0;34m.\u001b[0m\u001b[0mon_train_batch_begin\u001b[0m\u001b[0;34m(\u001b[0m\u001b[0mstep\u001b[0m\u001b[0;34m)\u001b[0m\u001b[0;34m\u001b[0m\u001b[0;34m\u001b[0m\u001b[0m\n\u001b[0;32m-> 1183\u001b[0;31m               \u001b[0mtmp_logs\u001b[0m \u001b[0;34m=\u001b[0m \u001b[0mself\u001b[0m\u001b[0;34m.\u001b[0m\u001b[0mtrain_function\u001b[0m\u001b[0;34m(\u001b[0m\u001b[0miterator\u001b[0m\u001b[0;34m)\u001b[0m\u001b[0;34m\u001b[0m\u001b[0;34m\u001b[0m\u001b[0m\n\u001b[0m\u001b[1;32m   1184\u001b[0m               \u001b[0;32mif\u001b[0m \u001b[0mdata_handler\u001b[0m\u001b[0;34m.\u001b[0m\u001b[0mshould_sync\u001b[0m\u001b[0;34m:\u001b[0m\u001b[0;34m\u001b[0m\u001b[0;34m\u001b[0m\u001b[0m\n\u001b[1;32m   1185\u001b[0m                 \u001b[0mcontext\u001b[0m\u001b[0;34m.\u001b[0m\u001b[0masync_wait\u001b[0m\u001b[0;34m(\u001b[0m\u001b[0;34m)\u001b[0m\u001b[0;34m\u001b[0m\u001b[0;34m\u001b[0m\u001b[0m\n",
            "\u001b[0;32m/usr/local/lib/python3.7/dist-packages/tensorflow/python/eager/def_function.py\u001b[0m in \u001b[0;36m__call__\u001b[0;34m(self, *args, **kwds)\u001b[0m\n\u001b[1;32m    887\u001b[0m \u001b[0;34m\u001b[0m\u001b[0m\n\u001b[1;32m    888\u001b[0m       \u001b[0;32mwith\u001b[0m \u001b[0mOptionalXlaContext\u001b[0m\u001b[0;34m(\u001b[0m\u001b[0mself\u001b[0m\u001b[0;34m.\u001b[0m\u001b[0m_jit_compile\u001b[0m\u001b[0;34m)\u001b[0m\u001b[0;34m:\u001b[0m\u001b[0;34m\u001b[0m\u001b[0;34m\u001b[0m\u001b[0m\n\u001b[0;32m--> 889\u001b[0;31m         \u001b[0mresult\u001b[0m \u001b[0;34m=\u001b[0m \u001b[0mself\u001b[0m\u001b[0;34m.\u001b[0m\u001b[0m_call\u001b[0m\u001b[0;34m(\u001b[0m\u001b[0;34m*\u001b[0m\u001b[0margs\u001b[0m\u001b[0;34m,\u001b[0m \u001b[0;34m**\u001b[0m\u001b[0mkwds\u001b[0m\u001b[0;34m)\u001b[0m\u001b[0;34m\u001b[0m\u001b[0;34m\u001b[0m\u001b[0m\n\u001b[0m\u001b[1;32m    890\u001b[0m \u001b[0;34m\u001b[0m\u001b[0m\n\u001b[1;32m    891\u001b[0m       \u001b[0mnew_tracing_count\u001b[0m \u001b[0;34m=\u001b[0m \u001b[0mself\u001b[0m\u001b[0;34m.\u001b[0m\u001b[0mexperimental_get_tracing_count\u001b[0m\u001b[0;34m(\u001b[0m\u001b[0;34m)\u001b[0m\u001b[0;34m\u001b[0m\u001b[0;34m\u001b[0m\u001b[0m\n",
            "\u001b[0;32m/usr/local/lib/python3.7/dist-packages/tensorflow/python/eager/def_function.py\u001b[0m in \u001b[0;36m_call\u001b[0;34m(self, *args, **kwds)\u001b[0m\n\u001b[1;32m    915\u001b[0m       \u001b[0;31m# In this case we have created variables on the first call, so we run the\u001b[0m\u001b[0;34m\u001b[0m\u001b[0;34m\u001b[0m\u001b[0;34m\u001b[0m\u001b[0m\n\u001b[1;32m    916\u001b[0m       \u001b[0;31m# defunned version which is guaranteed to never create variables.\u001b[0m\u001b[0;34m\u001b[0m\u001b[0;34m\u001b[0m\u001b[0;34m\u001b[0m\u001b[0m\n\u001b[0;32m--> 917\u001b[0;31m       \u001b[0;32mreturn\u001b[0m \u001b[0mself\u001b[0m\u001b[0;34m.\u001b[0m\u001b[0m_stateless_fn\u001b[0m\u001b[0;34m(\u001b[0m\u001b[0;34m*\u001b[0m\u001b[0margs\u001b[0m\u001b[0;34m,\u001b[0m \u001b[0;34m**\u001b[0m\u001b[0mkwds\u001b[0m\u001b[0;34m)\u001b[0m  \u001b[0;31m# pylint: disable=not-callable\u001b[0m\u001b[0;34m\u001b[0m\u001b[0;34m\u001b[0m\u001b[0m\n\u001b[0m\u001b[1;32m    918\u001b[0m     \u001b[0;32melif\u001b[0m \u001b[0mself\u001b[0m\u001b[0;34m.\u001b[0m\u001b[0m_stateful_fn\u001b[0m \u001b[0;32mis\u001b[0m \u001b[0;32mnot\u001b[0m \u001b[0;32mNone\u001b[0m\u001b[0;34m:\u001b[0m\u001b[0;34m\u001b[0m\u001b[0;34m\u001b[0m\u001b[0m\n\u001b[1;32m    919\u001b[0m       \u001b[0;31m# Release the lock early so that multiple threads can perform the call\u001b[0m\u001b[0;34m\u001b[0m\u001b[0;34m\u001b[0m\u001b[0;34m\u001b[0m\u001b[0m\n",
            "\u001b[0;32m/usr/local/lib/python3.7/dist-packages/tensorflow/python/eager/function.py\u001b[0m in \u001b[0;36m__call__\u001b[0;34m(self, *args, **kwargs)\u001b[0m\n\u001b[1;32m   3022\u001b[0m        filtered_flat_args) = self._maybe_define_function(args, kwargs)\n\u001b[1;32m   3023\u001b[0m     return graph_function._call_flat(\n\u001b[0;32m-> 3024\u001b[0;31m         filtered_flat_args, captured_inputs=graph_function.captured_inputs)  # pylint: disable=protected-access\n\u001b[0m\u001b[1;32m   3025\u001b[0m \u001b[0;34m\u001b[0m\u001b[0m\n\u001b[1;32m   3026\u001b[0m   \u001b[0;34m@\u001b[0m\u001b[0mproperty\u001b[0m\u001b[0;34m\u001b[0m\u001b[0;34m\u001b[0m\u001b[0m\n",
            "\u001b[0;32m/usr/local/lib/python3.7/dist-packages/tensorflow/python/eager/function.py\u001b[0m in \u001b[0;36m_call_flat\u001b[0;34m(self, args, captured_inputs, cancellation_manager)\u001b[0m\n\u001b[1;32m   1959\u001b[0m       \u001b[0;31m# No tape is watching; skip to running the function.\u001b[0m\u001b[0;34m\u001b[0m\u001b[0;34m\u001b[0m\u001b[0;34m\u001b[0m\u001b[0m\n\u001b[1;32m   1960\u001b[0m       return self._build_call_outputs(self._inference_function.call(\n\u001b[0;32m-> 1961\u001b[0;31m           ctx, args, cancellation_manager=cancellation_manager))\n\u001b[0m\u001b[1;32m   1962\u001b[0m     forward_backward = self._select_forward_and_backward_functions(\n\u001b[1;32m   1963\u001b[0m         \u001b[0margs\u001b[0m\u001b[0;34m,\u001b[0m\u001b[0;34m\u001b[0m\u001b[0;34m\u001b[0m\u001b[0m\n",
            "\u001b[0;32m/usr/local/lib/python3.7/dist-packages/tensorflow/python/eager/function.py\u001b[0m in \u001b[0;36mcall\u001b[0;34m(self, ctx, args, cancellation_manager)\u001b[0m\n\u001b[1;32m    594\u001b[0m               \u001b[0minputs\u001b[0m\u001b[0;34m=\u001b[0m\u001b[0margs\u001b[0m\u001b[0;34m,\u001b[0m\u001b[0;34m\u001b[0m\u001b[0;34m\u001b[0m\u001b[0m\n\u001b[1;32m    595\u001b[0m               \u001b[0mattrs\u001b[0m\u001b[0;34m=\u001b[0m\u001b[0mattrs\u001b[0m\u001b[0;34m,\u001b[0m\u001b[0;34m\u001b[0m\u001b[0;34m\u001b[0m\u001b[0m\n\u001b[0;32m--> 596\u001b[0;31m               ctx=ctx)\n\u001b[0m\u001b[1;32m    597\u001b[0m         \u001b[0;32melse\u001b[0m\u001b[0;34m:\u001b[0m\u001b[0;34m\u001b[0m\u001b[0;34m\u001b[0m\u001b[0m\n\u001b[1;32m    598\u001b[0m           outputs = execute.execute_with_cancellation(\n",
            "\u001b[0;32m/usr/local/lib/python3.7/dist-packages/tensorflow/python/eager/execute.py\u001b[0m in \u001b[0;36mquick_execute\u001b[0;34m(op_name, num_outputs, inputs, attrs, ctx, name)\u001b[0m\n\u001b[1;32m     58\u001b[0m     \u001b[0mctx\u001b[0m\u001b[0;34m.\u001b[0m\u001b[0mensure_initialized\u001b[0m\u001b[0;34m(\u001b[0m\u001b[0;34m)\u001b[0m\u001b[0;34m\u001b[0m\u001b[0;34m\u001b[0m\u001b[0m\n\u001b[1;32m     59\u001b[0m     tensors = pywrap_tfe.TFE_Py_Execute(ctx._handle, device_name, op_name,\n\u001b[0;32m---> 60\u001b[0;31m                                         inputs, attrs, num_outputs)\n\u001b[0m\u001b[1;32m     61\u001b[0m   \u001b[0;32mexcept\u001b[0m \u001b[0mcore\u001b[0m\u001b[0;34m.\u001b[0m\u001b[0m_NotOkStatusException\u001b[0m \u001b[0;32mas\u001b[0m \u001b[0me\u001b[0m\u001b[0;34m:\u001b[0m\u001b[0;34m\u001b[0m\u001b[0;34m\u001b[0m\u001b[0m\n\u001b[1;32m     62\u001b[0m     \u001b[0;32mif\u001b[0m \u001b[0mname\u001b[0m \u001b[0;32mis\u001b[0m \u001b[0;32mnot\u001b[0m \u001b[0;32mNone\u001b[0m\u001b[0;34m:\u001b[0m\u001b[0;34m\u001b[0m\u001b[0;34m\u001b[0m\u001b[0m\n",
            "\u001b[0;31mKeyboardInterrupt\u001b[0m: "
          ]
        }
      ]
    },
    {
      "cell_type": "code",
      "metadata": {
        "colab": {
          "base_uri": "https://localhost:8080/"
        },
        "id": "5N31a7egumlf",
        "outputId": "22c3c841-ebdf-4fbe-dbe7-dda97ed76f82"
      },
      "source": [
        "model1 = tf.keras.Sequential([\n",
        "     tf.keras.layers.Embedding(vocab_size, embedding_dim),\n",
        "     tf.keras.layers.Bidirectional(tf.keras.layers.LSTM(embedding_dim)),\n",
        "     #tf.keras.layers.GlobalAveragePooling1D(),\n",
        "     #tf.keras.layers.Dense(100, activation = 'elu'),\n",
        "     #tf.keras.layers.Dense(50, activation = 'elu'),\n",
        "     #tf.keras.layers.Dense(50, activation = 'elu'),\n",
        "     tf.keras.layers.Dense(128, activation = 'elu'),\n",
        "     tf.keras.layers.Dense(64, activation = 'elu'),\n",
        "     tf.keras.layers.Dense(embedding_dim, activation = 'elu'),\n",
        "     tf.keras.layers.Dense(6, activation = 'sigmoid'),\n",
        "])\n",
        "\n",
        "model1.compile(loss=tf.keras.losses.SparseCategoricalCrossentropy(from_logits=True), optimizer = 'adam', metrics = ['accuracy'])\n",
        "model1.summary()"
      ],
      "execution_count": 89,
      "outputs": [
        {
          "output_type": "stream",
          "text": [
            "Model: \"sequential_9\"\n",
            "_________________________________________________________________\n",
            "Layer (type)                 Output Shape              Param #   \n",
            "=================================================================\n",
            "embedding_10 (Embedding)     (None, None, 32)          1600000   \n",
            "_________________________________________________________________\n",
            "bidirectional_6 (Bidirection (None, 64)                16640     \n",
            "_________________________________________________________________\n",
            "dense_32 (Dense)             (None, 128)               8320      \n",
            "_________________________________________________________________\n",
            "dense_33 (Dense)             (None, 64)                8256      \n",
            "_________________________________________________________________\n",
            "dense_34 (Dense)             (None, 32)                2080      \n",
            "_________________________________________________________________\n",
            "dense_35 (Dense)             (None, 6)                 198       \n",
            "=================================================================\n",
            "Total params: 1,635,494\n",
            "Trainable params: 1,635,494\n",
            "Non-trainable params: 0\n",
            "_________________________________________________________________\n"
          ],
          "name": "stdout"
        }
      ]
    },
    {
      "cell_type": "code",
      "metadata": {
        "colab": {
          "base_uri": "https://localhost:8080/"
        },
        "id": "159NUZHCDkaf",
        "outputId": "50f7f6d3-67e8-442c-c62e-e2063cb9ca2c"
      },
      "source": [
        "history = model1.fit(padded, y_train, epochs = 6, validation_data=(tes_pad, y_test))"
      ],
      "execution_count": 90,
      "outputs": [
        {
          "output_type": "stream",
          "text": [
            "Epoch 1/6\n"
          ],
          "name": "stdout"
        },
        {
          "output_type": "stream",
          "text": [
            "/usr/local/lib/python3.7/dist-packages/tensorflow/python/keras/backend.py:4930: UserWarning: \"`sparse_categorical_crossentropy` received `from_logits=True`, but the `output` argument was produced by a sigmoid or softmax activation and thus does not represent logits. Was this intended?\"\n",
            "  '\"`sparse_categorical_crossentropy` received `from_logits=True`, but '\n"
          ],
          "name": "stderr"
        },
        {
          "output_type": "stream",
          "text": [
            "4302/4302 [==============================] - 494s 114ms/step - loss: 0.8835 - accuracy: 0.6518 - val_loss: 0.8071 - val_accuracy: 0.6774\n",
            "Epoch 2/6\n",
            "4302/4302 [==============================] - 467s 109ms/step - loss: 0.7417 - accuracy: 0.7041 - val_loss: 0.7614 - val_accuracy: 0.6934\n",
            "Epoch 3/6\n",
            "4302/4302 [==============================] - 471s 109ms/step - loss: 0.6678 - accuracy: 0.7331 - val_loss: 0.7725 - val_accuracy: 0.6924\n",
            "Epoch 4/6\n",
            "4302/4302 [==============================] - 460s 107ms/step - loss: 0.6022 - accuracy: 0.7624 - val_loss: 0.8117 - val_accuracy: 0.6928\n",
            "Epoch 5/6\n",
            "4302/4302 [==============================] - 487s 113ms/step - loss: 0.5405 - accuracy: 0.7895 - val_loss: 0.8611 - val_accuracy: 0.6751\n",
            "Epoch 6/6\n",
            "4302/4302 [==============================] - 499s 116ms/step - loss: 0.4829 - accuracy: 0.8147 - val_loss: 0.9166 - val_accuracy: 0.6774\n"
          ],
          "name": "stdout"
        }
      ]
    },
    {
      "cell_type": "code",
      "metadata": {
        "id": "juGujf9ODmur"
      },
      "source": [
        "model3 = tf.keras.Sequential([\n",
        "     tf.keras.layers.Embedding(vocab_size, embedding_dim),\n",
        "     tf.keras.layers.Bidirectional(tf.keras.layers.LSTM(embedding_dim)),\n",
        "     keras.layers.BatchNormalization(),\n",
        "     #tf.keras.layers.GlobalAveragePooling1D(),\n",
        "     #tf.keras.layers.Dense(100, activation = 'elu'),\n",
        "     #tf.keras.layers.Dense(50, activation = 'elu'),\n",
        "     #tf.keras.layers.Dense(50, activation = 'elu'),\n",
        "     tf.keras.layers.Dense(500, activation = 'elu'),\n",
        "     keras.layers.BatchNormalization(),\n",
        "     tf.keras.layers.Dense(256, activation = 'elu'),\n",
        "     keras.layers.BatchNormalization(),\n",
        "     tf.keras.layers.Dense(128, activation = 'elu'),\n",
        "     keras.layers.BatchNormalization(),\n",
        "     tf.keras.layers.Dense(128, activation = 'elu'),\n",
        "     keras.layers.BatchNormalization(),\n",
        "     tf.keras.layers.Dense(64, activation = 'elu'),\n",
        "     keras.layers.BatchNormalization(),\n",
        "     tf.keras.layers.Dense(embedding_dim, activation = 'elu'),\n",
        "     keras.layers.BatchNormalization(),\n",
        "     tf.keras.layers.Dense(6, activation = 'sigmoid'),\n",
        "])\n",
        "\n",
        "model3.compile(loss=tf.keras.losses.SparseCategoricalCrossentropy(from_logits=True), optimizer = 'adam', metrics = ['accuracy'])\n",
        "#model1.summary()"
      ],
      "execution_count": 95,
      "outputs": []
    },
    {
      "cell_type": "code",
      "metadata": {
        "colab": {
          "base_uri": "https://localhost:8080/"
        },
        "id": "4qMalyevPIJs",
        "outputId": "d699665d-3271-4993-bcd2-faafd5a2d695"
      },
      "source": [
        "history3 = model2.fit(padded, y_train, epochs = 5, validation_data=(tes_pad, y_test))"
      ],
      "execution_count": null,
      "outputs": [
        {
          "output_type": "stream",
          "text": [
            "Epoch 1/5\n",
            "4302/4302 [==============================] - 498s 116ms/step - loss: 0.4262 - accuracy: 0.8424 - val_loss: 1.0130 - val_accuracy: 0.6670\n",
            "Epoch 2/5\n",
            "4302/4302 [==============================] - 497s 115ms/step - loss: 0.3809 - accuracy: 0.8608 - val_loss: 1.0754 - val_accuracy: 0.6629\n",
            "Epoch 3/5\n",
            "3987/4302 [==========================>...] - ETA: 34s - loss: 0.3417 - accuracy: 0.8766"
          ],
          "name": "stdout"
        }
      ]
    },
    {
      "cell_type": "code",
      "metadata": {
        "id": "OnHXr_SEPOFR"
      },
      "source": [
        "keras.layers.BatchNormalization(),"
      ],
      "execution_count": null,
      "outputs": []
    },
    {
      "cell_type": "code",
      "metadata": {
        "id": "ccTMuSXNDiiW"
      },
      "source": [
        "model5 = tf.keras.Sequential([\n",
        "tf.keras.layers.Embedding(vocab_size, 13),\n",
        "tf.keras.layers.Conv1D(300, 5, activation='relu'),\n",
        "tf.keras.layers.Conv1D(150, 5, activation='relu'),\n",
        "tf.keras.layers.GlobalAveragePooling1D(),\n",
        "tf.keras.layers.Dense(64, activation='relu'),\n",
        "tf.keras.layers.Dense(64, activation='relu'),\n",
        "tf.keras.layers.Dense(6, activation='softmax')\n",
        "])"
      ],
      "execution_count": 119,
      "outputs": []
    },
    {
      "cell_type": "code",
      "metadata": {
        "id": "zexqOZ2qEquE"
      },
      "source": [
        "model5.compile(loss='SparseCategoricalCrossentropy', optimizer='adam', \n",
        "               metrics = ['accuracy'])"
      ],
      "execution_count": 124,
      "outputs": []
    },
    {
      "cell_type": "code",
      "metadata": {
        "id": "aimj57bsE3ZB",
        "outputId": "d091e233-7c39-4777-e339-1370999c2e2a",
        "colab": {
          "base_uri": "https://localhost:8080/"
        }
      },
      "source": [
        "history5 = model5.fit(padded, y_train, epochs = 5, validation_data=(tes_pad, y_test))"
      ],
      "execution_count": 125,
      "outputs": [
        {
          "output_type": "stream",
          "text": [
            "Epoch 1/5\n",
            "4302/4302 [==============================] - 720s 167ms/step - loss: 0.8932 - accuracy: 0.6471 - val_loss: 0.7768 - val_accuracy: 0.6930\n",
            "Epoch 2/5\n",
            "4302/4302 [==============================] - 724s 168ms/step - loss: 0.7391 - accuracy: 0.7066 - val_loss: 0.7509 - val_accuracy: 0.7023\n",
            "Epoch 3/5\n",
            "4302/4302 [==============================] - 722s 168ms/step - loss: 0.6757 - accuracy: 0.7312 - val_loss: 0.7779 - val_accuracy: 0.6952\n",
            "Epoch 4/5\n",
            "4302/4302 [==============================] - 721s 168ms/step - loss: 0.6168 - accuracy: 0.7554 - val_loss: 0.7949 - val_accuracy: 0.6967\n",
            "Epoch 5/5\n",
            "4302/4302 [==============================] - 706s 164ms/step - loss: 0.5600 - accuracy: 0.7826 - val_loss: 0.8812 - val_accuracy: 0.6758\n"
          ],
          "name": "stdout"
        }
      ]
    },
    {
      "cell_type": "code",
      "metadata": {
        "id": "qfvLTYIGFCV4"
      },
      "source": [
        "model6 = tf.keras.Sequential([\n",
        "tf.keras.layers.Embedding(vocab_size, 13),\n",
        "tf.keras.layers.Conv1D(300, 5, activation='relu'),\n",
        "tf.keras.layers.Conv1D(150, 5, activation='relu'),\n",
        "tf.keras.layers.GlobalAveragePooling1D(),\n",
        "keras.layers.BatchNormalization(),\n",
        "tf.keras.layers.Dense(500, activation='relu'),\n",
        "keras.layers.BatchNormalization(),\n",
        "tf.keras.layers.Dense(300, activation='relu'),\n",
        "keras.layers.BatchNormalization(),\n",
        "tf.keras.layers.Dense(200, activation='relu'),\n",
        "keras.layers.BatchNormalization(),\n",
        "tf.keras.layers.Dense(100, activation='relu'),\n",
        "keras.layers.BatchNormalization(),\n",
        "tf.keras.layers.Dense(64, activation='relu'),\n",
        "keras.layers.BatchNormalization(),\n",
        "tf.keras.layers.Dense(64, activation='relu'),\n",
        "keras.layers.BatchNormalization(),\n",
        "tf.keras.layers.Dense(6, activation='softmax')\n",
        "])"
      ],
      "execution_count": 126,
      "outputs": []
    },
    {
      "cell_type": "code",
      "metadata": {
        "id": "sIG1bQLpZIR8"
      },
      "source": [
        "model6.compile(loss='SparseCategoricalCrossentropy', optimizer='adam', \n",
        "               metrics = ['accuracy'])"
      ],
      "execution_count": 127,
      "outputs": []
    },
    {
      "cell_type": "code",
      "metadata": {
        "id": "uPioWdmCZNbV",
        "outputId": "04621e1f-6fe1-4a65-a492-1ff0a0af3f03",
        "colab": {
          "base_uri": "https://localhost:8080/"
        }
      },
      "source": [
        "history6 = model6.fit(padded, y_train, epochs = 5, validation_data=(tes_pad, y_test))"
      ],
      "execution_count": 128,
      "outputs": [
        {
          "output_type": "stream",
          "text": [
            "Epoch 1/5\n",
            "4302/4302 [==============================] - 731s 169ms/step - loss: 0.9308 - accuracy: 0.6376 - val_loss: 1.2581 - val_accuracy: 0.5298\n",
            "Epoch 2/5\n",
            "4302/4302 [==============================] - 732s 170ms/step - loss: 0.7760 - accuracy: 0.6940 - val_loss: 0.8014 - val_accuracy: 0.6792\n",
            "Epoch 3/5\n",
            "4302/4302 [==============================] - 729s 169ms/step - loss: 0.7071 - accuracy: 0.7213 - val_loss: 0.7619 - val_accuracy: 0.7029\n",
            "Epoch 4/5\n",
            "4302/4302 [==============================] - 727s 169ms/step - loss: 0.6408 - accuracy: 0.7485 - val_loss: 0.8046 - val_accuracy: 0.6754\n",
            "Epoch 5/5\n",
            "4302/4302 [==============================] - 730s 170ms/step - loss: 0.5844 - accuracy: 0.7718 - val_loss: 0.8118 - val_accuracy: 0.6945\n"
          ],
          "name": "stdout"
        }
      ]
    },
    {
      "cell_type": "code",
      "metadata": {
        "id": "vgc5ZNskZSkI"
      },
      "source": [
        ""
      ],
      "execution_count": null,
      "outputs": []
    }
  ]
}